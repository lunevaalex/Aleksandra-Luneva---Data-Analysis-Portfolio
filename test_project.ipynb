{
 "cells": [
  {
   "cell_type": "markdown",
   "metadata": {},
   "source": [
    "# **Traffic analysis**\n",
    "\n",
    "The task is to analyze dataset in order to find useful insights: what segments of data bring traffic with the best quality (Main metric is conversion rate from lead to client. There can be other metrics as well) \n",
    "\n",
    "\n",
    "**We are going to answer following questions:**\n",
    "\n",
    "-How users are distributed over countries?\n",
    "\n",
    "-How many outliers are there in data (in terms of deposits)?\n",
    "\n",
    "-Find segments with best conversion rate (client/lead ratio) and explain why you consider them best ones\n",
    "\n",
    "-Visualize deposits distribution over sources and channels\n",
    "\n",
    "-What are your advices to marketing team in order to optimize their activity?\n",
    "\n",
    "**Data** \n",
    "\n",
    "We have a synthetic dataset (synthetic_data.csv) that contains history of users' activities (registrations and deposits)\n",
    "\n",
    "**Data description:** \n",
    "\n",
    "client_id - unique id of lead/client. it's assigned during registration and isn't changed anymore \n",
    "\n",
    "Country - country of lead/client (iso2). It's in the separate file (countries.csv)\n",
    "\n",
    "Source - source of traffic acquisition. There are two possible sources (posts and telegram channel). if Source contains \"postid\" - it means that lead came from article. id of post doesn't matter. if Source contains \"telegram\" - it means that lead came from telegram  \n",
    "\n",
    "channel - channel of traffic. For example, user can come from 'telegram' source and from 'affiliate' channel\n",
    "\n",
    "Clicks - amount of clicks user made during first day after registration\n",
    "\n",
    "Latency - time of application loading in miliseconds\n",
    "\n",
    "Depo - amount of deposit, USD\n",
    "\n",
    "\n",
    "\n",
    "**Glossary:**\n",
    "\n",
    "Lead: user who registered inside mobile app\n",
    "\n",
    "Client: user who registered inside mobile app AND made a deposit"
   ]
  },
  {
   "cell_type": "code",
   "execution_count": 451,
   "metadata": {},
   "outputs": [],
   "source": [
    "#import libraries\n",
    "\n",
    "import pandas as pd\n",
    "import numpy as np\n",
    "\n",
    "import seaborn as sns\n",
    "import matplotlib.pyplot as plt\n",
    "\n",
    "%matplotlib inline"
   ]
  },
  {
   "cell_type": "code",
   "execution_count": 452,
   "metadata": {},
   "outputs": [],
   "source": [
    "# reading data\n",
    "\n",
    "countries = pd.read_csv('countries.csv')\n",
    "synthetic_data = pd.read_csv('synthetic_data.csv')"
   ]
  },
  {
   "cell_type": "code",
   "execution_count": 453,
   "metadata": {},
   "outputs": [
    {
     "data": {
      "text/html": [
       "<div>\n",
       "<style scoped>\n",
       "    .dataframe tbody tr th:only-of-type {\n",
       "        vertical-align: middle;\n",
       "    }\n",
       "\n",
       "    .dataframe tbody tr th {\n",
       "        vertical-align: top;\n",
       "    }\n",
       "\n",
       "    .dataframe thead th {\n",
       "        text-align: right;\n",
       "    }\n",
       "</style>\n",
       "<table border=\"1\" class=\"dataframe\">\n",
       "  <thead>\n",
       "    <tr style=\"text-align: right;\">\n",
       "      <th></th>\n",
       "      <th>country</th>\n",
       "      <th>client_id</th>\n",
       "    </tr>\n",
       "  </thead>\n",
       "  <tbody>\n",
       "    <tr>\n",
       "      <th>0</th>\n",
       "      <td>IN</td>\n",
       "      <td>6348826</td>\n",
       "    </tr>\n",
       "    <tr>\n",
       "      <th>1</th>\n",
       "      <td>FR</td>\n",
       "      <td>6751691</td>\n",
       "    </tr>\n",
       "    <tr>\n",
       "      <th>2</th>\n",
       "      <td>DE</td>\n",
       "      <td>8638448</td>\n",
       "    </tr>\n",
       "    <tr>\n",
       "      <th>3</th>\n",
       "      <td>LT</td>\n",
       "      <td>4722696</td>\n",
       "    </tr>\n",
       "    <tr>\n",
       "      <th>4</th>\n",
       "      <td>ES</td>\n",
       "      <td>2411132</td>\n",
       "    </tr>\n",
       "  </tbody>\n",
       "</table>\n",
       "</div>"
      ],
      "text/plain": [
       "  country  client_id\n",
       "0      IN    6348826\n",
       "1      FR    6751691\n",
       "2      DE    8638448\n",
       "3      LT    4722696\n",
       "4      ES    2411132"
      ]
     },
     "execution_count": 453,
     "metadata": {},
     "output_type": "execute_result"
    }
   ],
   "source": [
    "# exploring data\n",
    "\n",
    "countries.head()"
   ]
  },
  {
   "cell_type": "code",
   "execution_count": 454,
   "metadata": {},
   "outputs": [
    {
     "data": {
      "text/plain": [
       "(219314, 2)"
      ]
     },
     "execution_count": 454,
     "metadata": {},
     "output_type": "execute_result"
    }
   ],
   "source": [
    "# checking data shape\n",
    "\n",
    "countries.shape"
   ]
  },
  {
   "cell_type": "code",
   "execution_count": 455,
   "metadata": {},
   "outputs": [
    {
     "data": {
      "text/plain": [
       "country      object\n",
       "client_id     int64\n",
       "dtype: object"
      ]
     },
     "execution_count": 455,
     "metadata": {},
     "output_type": "execute_result"
    }
   ],
   "source": [
    "# checking data types\n",
    "\n",
    "countries.dtypes"
   ]
  },
  {
   "cell_type": "code",
   "execution_count": 456,
   "metadata": {},
   "outputs": [
    {
     "data": {
      "text/plain": [
       "country      0\n",
       "client_id    0\n",
       "dtype: int64"
      ]
     },
     "execution_count": 456,
     "metadata": {},
     "output_type": "execute_result"
    }
   ],
   "source": [
    "# looking for empty cells\n",
    "\n",
    "countries.isna().sum()"
   ]
  },
  {
   "cell_type": "code",
   "execution_count": 457,
   "metadata": {},
   "outputs": [
    {
     "data": {
      "text/html": [
       "<div>\n",
       "<style scoped>\n",
       "    .dataframe tbody tr th:only-of-type {\n",
       "        vertical-align: middle;\n",
       "    }\n",
       "\n",
       "    .dataframe tbody tr th {\n",
       "        vertical-align: top;\n",
       "    }\n",
       "\n",
       "    .dataframe thead th {\n",
       "        text-align: right;\n",
       "    }\n",
       "</style>\n",
       "<table border=\"1\" class=\"dataframe\">\n",
       "  <thead>\n",
       "    <tr style=\"text-align: right;\">\n",
       "      <th></th>\n",
       "      <th>Unnamed: 0</th>\n",
       "      <th>depo</th>\n",
       "      <th>segment</th>\n",
       "      <th>channel</th>\n",
       "      <th>clicks</th>\n",
       "      <th>latency</th>\n",
       "      <th>client_id</th>\n",
       "    </tr>\n",
       "  </thead>\n",
       "  <tbody>\n",
       "    <tr>\n",
       "      <th>0</th>\n",
       "      <td>0</td>\n",
       "      <td>0</td>\n",
       "      <td>postid_4057</td>\n",
       "      <td>smm</td>\n",
       "      <td>1.0</td>\n",
       "      <td>2.649725</td>\n",
       "      <td>1442498</td>\n",
       "    </tr>\n",
       "    <tr>\n",
       "      <th>1</th>\n",
       "      <td>1</td>\n",
       "      <td>0</td>\n",
       "      <td>telegram</td>\n",
       "      <td>affiliate</td>\n",
       "      <td>10.0</td>\n",
       "      <td>2.610846</td>\n",
       "      <td>7865631</td>\n",
       "    </tr>\n",
       "    <tr>\n",
       "      <th>2</th>\n",
       "      <td>2</td>\n",
       "      <td>0</td>\n",
       "      <td>postid_8542</td>\n",
       "      <td>facebook</td>\n",
       "      <td>13.0</td>\n",
       "      <td>3.001162</td>\n",
       "      <td>8165584</td>\n",
       "    </tr>\n",
       "    <tr>\n",
       "      <th>3</th>\n",
       "      <td>3</td>\n",
       "      <td>0</td>\n",
       "      <td>telegram</td>\n",
       "      <td>direct</td>\n",
       "      <td>0.0</td>\n",
       "      <td>1.788369</td>\n",
       "      <td>5893056</td>\n",
       "    </tr>\n",
       "    <tr>\n",
       "      <th>4</th>\n",
       "      <td>4</td>\n",
       "      <td>0</td>\n",
       "      <td>telegram</td>\n",
       "      <td>smm</td>\n",
       "      <td>0.0</td>\n",
       "      <td>1.932069</td>\n",
       "      <td>3780924</td>\n",
       "    </tr>\n",
       "  </tbody>\n",
       "</table>\n",
       "</div>"
      ],
      "text/plain": [
       "   Unnamed: 0  depo      segment    channel  clicks   latency  client_id\n",
       "0           0     0  postid_4057        smm     1.0  2.649725    1442498\n",
       "1           1     0     telegram  affiliate    10.0  2.610846    7865631\n",
       "2           2     0  postid_8542   facebook    13.0  3.001162    8165584\n",
       "3           3     0     telegram     direct     0.0  1.788369    5893056\n",
       "4           4     0     telegram        smm     0.0  1.932069    3780924"
      ]
     },
     "execution_count": 457,
     "metadata": {},
     "output_type": "execute_result"
    }
   ],
   "source": [
    "# exploring data\n",
    "\n",
    "synthetic_data.head()"
   ]
  },
  {
   "cell_type": "code",
   "execution_count": 458,
   "metadata": {},
   "outputs": [
    {
     "data": {
      "text/plain": [
       "(219314, 7)"
      ]
     },
     "execution_count": 458,
     "metadata": {},
     "output_type": "execute_result"
    }
   ],
   "source": [
    "# checking data shape\n",
    "\n",
    "synthetic_data.shape"
   ]
  },
  {
   "cell_type": "code",
   "execution_count": 459,
   "metadata": {},
   "outputs": [
    {
     "data": {
      "text/plain": [
       "Unnamed: 0      int64\n",
       "depo            int64\n",
       "segment        object\n",
       "channel        object\n",
       "clicks        float64\n",
       "latency       float64\n",
       "client_id       int64\n",
       "dtype: object"
      ]
     },
     "execution_count": 459,
     "metadata": {},
     "output_type": "execute_result"
    }
   ],
   "source": [
    "# checking data types\n",
    "\n",
    "synthetic_data.dtypes"
   ]
  },
  {
   "cell_type": "code",
   "execution_count": 460,
   "metadata": {},
   "outputs": [
    {
     "data": {
      "text/plain": [
       "Unnamed: 0       0\n",
       "depo             0\n",
       "segment          0\n",
       "channel       2172\n",
       "clicks           0\n",
       "latency          0\n",
       "client_id        0\n",
       "dtype: int64"
      ]
     },
     "execution_count": 460,
     "metadata": {},
     "output_type": "execute_result"
    }
   ],
   "source": [
    "# looking for empty cells\n",
    "\n",
    "synthetic_data.isna().sum()"
   ]
  },
  {
   "cell_type": "markdown",
   "metadata": {},
   "source": [
    "We can see that there are 2172 values missing at channel column. Let's replace empty cells with 'none' value."
   ]
  },
  {
   "cell_type": "code",
   "execution_count": 474,
   "metadata": {},
   "outputs": [],
   "source": [
    "synthetic_data['channel'] = synthetic_data['channel'].fillna('none')\n"
   ]
  },
  {
   "cell_type": "code",
   "execution_count": 471,
   "metadata": {},
   "outputs": [
    {
     "data": {
      "text/plain": [
       "Unnamed: 0    0\n",
       "depo          0\n",
       "segment       0\n",
       "channel       0\n",
       "clicks        0\n",
       "latency       0\n",
       "client_id     0\n",
       "dtype: int64"
      ]
     },
     "execution_count": 471,
     "metadata": {},
     "output_type": "execute_result"
    }
   ],
   "source": [
    "synthetic_data.isna().sum()"
   ]
  },
  {
   "cell_type": "code",
   "execution_count": 475,
   "metadata": {},
   "outputs": [],
   "source": [
    "# let's merge the dataframes\n",
    "\n",
    "general_df = synthetic_data.merge(countries, on='client_id')"
   ]
  },
  {
   "cell_type": "code",
   "execution_count": 476,
   "metadata": {},
   "outputs": [
    {
     "data": {
      "text/html": [
       "<div>\n",
       "<style scoped>\n",
       "    .dataframe tbody tr th:only-of-type {\n",
       "        vertical-align: middle;\n",
       "    }\n",
       "\n",
       "    .dataframe tbody tr th {\n",
       "        vertical-align: top;\n",
       "    }\n",
       "\n",
       "    .dataframe thead th {\n",
       "        text-align: right;\n",
       "    }\n",
       "</style>\n",
       "<table border=\"1\" class=\"dataframe\">\n",
       "  <thead>\n",
       "    <tr style=\"text-align: right;\">\n",
       "      <th></th>\n",
       "      <th>Unnamed: 0</th>\n",
       "      <th>depo</th>\n",
       "      <th>segment</th>\n",
       "      <th>channel</th>\n",
       "      <th>clicks</th>\n",
       "      <th>latency</th>\n",
       "      <th>client_id</th>\n",
       "      <th>country</th>\n",
       "    </tr>\n",
       "  </thead>\n",
       "  <tbody>\n",
       "    <tr>\n",
       "      <th>0</th>\n",
       "      <td>0</td>\n",
       "      <td>0</td>\n",
       "      <td>postid_4057</td>\n",
       "      <td>smm</td>\n",
       "      <td>1.0</td>\n",
       "      <td>2.649725</td>\n",
       "      <td>1442498</td>\n",
       "      <td>IT</td>\n",
       "    </tr>\n",
       "    <tr>\n",
       "      <th>1</th>\n",
       "      <td>0</td>\n",
       "      <td>0</td>\n",
       "      <td>postid_4057</td>\n",
       "      <td>smm</td>\n",
       "      <td>1.0</td>\n",
       "      <td>2.649725</td>\n",
       "      <td>1442498</td>\n",
       "      <td>IT</td>\n",
       "    </tr>\n",
       "    <tr>\n",
       "      <th>2</th>\n",
       "      <td>1</td>\n",
       "      <td>0</td>\n",
       "      <td>telegram</td>\n",
       "      <td>affiliate</td>\n",
       "      <td>10.0</td>\n",
       "      <td>2.610846</td>\n",
       "      <td>7865631</td>\n",
       "      <td>LU</td>\n",
       "    </tr>\n",
       "    <tr>\n",
       "      <th>3</th>\n",
       "      <td>1</td>\n",
       "      <td>0</td>\n",
       "      <td>telegram</td>\n",
       "      <td>affiliate</td>\n",
       "      <td>10.0</td>\n",
       "      <td>2.610846</td>\n",
       "      <td>7865631</td>\n",
       "      <td>LU</td>\n",
       "    </tr>\n",
       "    <tr>\n",
       "      <th>4</th>\n",
       "      <td>2</td>\n",
       "      <td>0</td>\n",
       "      <td>postid_8542</td>\n",
       "      <td>facebook</td>\n",
       "      <td>13.0</td>\n",
       "      <td>3.001162</td>\n",
       "      <td>8165584</td>\n",
       "      <td>MO</td>\n",
       "    </tr>\n",
       "    <tr>\n",
       "      <th>...</th>\n",
       "      <td>...</td>\n",
       "      <td>...</td>\n",
       "      <td>...</td>\n",
       "      <td>...</td>\n",
       "      <td>...</td>\n",
       "      <td>...</td>\n",
       "      <td>...</td>\n",
       "      <td>...</td>\n",
       "    </tr>\n",
       "    <tr>\n",
       "      <th>219309</th>\n",
       "      <td>157555</td>\n",
       "      <td>0</td>\n",
       "      <td>telegram</td>\n",
       "      <td>smm</td>\n",
       "      <td>29.0</td>\n",
       "      <td>1.699514</td>\n",
       "      <td>5942604</td>\n",
       "      <td>ES</td>\n",
       "    </tr>\n",
       "    <tr>\n",
       "      <th>219310</th>\n",
       "      <td>157556</td>\n",
       "      <td>0</td>\n",
       "      <td>telegram</td>\n",
       "      <td>social media</td>\n",
       "      <td>0.0</td>\n",
       "      <td>1.803509</td>\n",
       "      <td>1391815</td>\n",
       "      <td>IN</td>\n",
       "    </tr>\n",
       "    <tr>\n",
       "      <th>219311</th>\n",
       "      <td>157557</td>\n",
       "      <td>0</td>\n",
       "      <td>postid_4873</td>\n",
       "      <td>facebook</td>\n",
       "      <td>2.0</td>\n",
       "      <td>1.801382</td>\n",
       "      <td>3967839</td>\n",
       "      <td>IN</td>\n",
       "    </tr>\n",
       "    <tr>\n",
       "      <th>219312</th>\n",
       "      <td>157558</td>\n",
       "      <td>0</td>\n",
       "      <td>postid_2733</td>\n",
       "      <td>facebook</td>\n",
       "      <td>0.0</td>\n",
       "      <td>3.846842</td>\n",
       "      <td>7962805</td>\n",
       "      <td>US</td>\n",
       "    </tr>\n",
       "    <tr>\n",
       "      <th>219313</th>\n",
       "      <td>157559</td>\n",
       "      <td>0</td>\n",
       "      <td>postid_8540</td>\n",
       "      <td>smm</td>\n",
       "      <td>0.0</td>\n",
       "      <td>4.848225</td>\n",
       "      <td>5903332</td>\n",
       "      <td>LT</td>\n",
       "    </tr>\n",
       "  </tbody>\n",
       "</table>\n",
       "<p>219314 rows × 8 columns</p>\n",
       "</div>"
      ],
      "text/plain": [
       "        Unnamed: 0  depo      segment       channel  clicks   latency  \\\n",
       "0                0     0  postid_4057           smm     1.0  2.649725   \n",
       "1                0     0  postid_4057           smm     1.0  2.649725   \n",
       "2                1     0     telegram     affiliate    10.0  2.610846   \n",
       "3                1     0     telegram     affiliate    10.0  2.610846   \n",
       "4                2     0  postid_8542      facebook    13.0  3.001162   \n",
       "...            ...   ...          ...           ...     ...       ...   \n",
       "219309      157555     0     telegram           smm    29.0  1.699514   \n",
       "219310      157556     0     telegram  social media     0.0  1.803509   \n",
       "219311      157557     0  postid_4873      facebook     2.0  1.801382   \n",
       "219312      157558     0  postid_2733      facebook     0.0  3.846842   \n",
       "219313      157559     0  postid_8540           smm     0.0  4.848225   \n",
       "\n",
       "        client_id country  \n",
       "0         1442498      IT  \n",
       "1         1442498      IT  \n",
       "2         7865631      LU  \n",
       "3         7865631      LU  \n",
       "4         8165584      MO  \n",
       "...           ...     ...  \n",
       "219309    5942604      ES  \n",
       "219310    1391815      IN  \n",
       "219311    3967839      IN  \n",
       "219312    7962805      US  \n",
       "219313    5903332      LT  \n",
       "\n",
       "[219314 rows x 8 columns]"
      ]
     },
     "execution_count": 476,
     "metadata": {},
     "output_type": "execute_result"
    }
   ],
   "source": [
    "# lets's see what we have in general\n",
    "\n",
    "general_df"
   ]
  },
  {
   "cell_type": "code",
   "execution_count": 477,
   "metadata": {},
   "outputs": [
    {
     "data": {
      "text/plain": [
       "(219314, 8)"
      ]
     },
     "execution_count": 477,
     "metadata": {},
     "output_type": "execute_result"
    }
   ],
   "source": [
    "# checking data shape\n",
    "\n",
    "general_df.shape"
   ]
  },
  {
   "cell_type": "code",
   "execution_count": 478,
   "metadata": {},
   "outputs": [
    {
     "data": {
      "text/plain": [
       "157560"
      ]
     },
     "execution_count": 478,
     "metadata": {},
     "output_type": "execute_result"
    }
   ],
   "source": [
    "# how many unique users we have?\n",
    "\n",
    "general_df.client_id.nunique()"
   ]
  },
  {
   "cell_type": "markdown",
   "metadata": {},
   "source": [
    "There are two possible sources (posts and telegram channel). If segment column contains \"postid\" - it means that lead came from article. id of post doesn't matter. If it contains \"telegram\" - it means that lead came from telegram. Since we have many different post ids, let's generalize the source in separate column named 'source'."
   ]
  },
  {
   "cell_type": "code",
   "execution_count": 479,
   "metadata": {},
   "outputs": [],
   "source": [
    "# adding column with source of traffic acquisition\n",
    "\n",
    "general_df['source'] = general_df.segment.apply(lambda x: 'telegram' if x == 'telegram' else 'post')\n",
    "       "
   ]
  },
  {
   "cell_type": "markdown",
   "metadata": {},
   "source": [
    "We also want to know if the lead became a client (means made a deposit). Let's make an additional column 'convereted' which gets the 'True' value for clients."
   ]
  },
  {
   "cell_type": "code",
   "execution_count": 480,
   "metadata": {},
   "outputs": [],
   "source": [
    "# adding column 'converted'\n",
    "\n",
    "general_df['converted'] = general_df.depo.apply(lambda x: True if x != 0 else False)"
   ]
  },
  {
   "cell_type": "code",
   "execution_count": 481,
   "metadata": {},
   "outputs": [
    {
     "data": {
      "text/html": [
       "<div>\n",
       "<style scoped>\n",
       "    .dataframe tbody tr th:only-of-type {\n",
       "        vertical-align: middle;\n",
       "    }\n",
       "\n",
       "    .dataframe tbody tr th {\n",
       "        vertical-align: top;\n",
       "    }\n",
       "\n",
       "    .dataframe thead th {\n",
       "        text-align: right;\n",
       "    }\n",
       "</style>\n",
       "<table border=\"1\" class=\"dataframe\">\n",
       "  <thead>\n",
       "    <tr style=\"text-align: right;\">\n",
       "      <th></th>\n",
       "      <th>Unnamed: 0</th>\n",
       "      <th>depo</th>\n",
       "      <th>segment</th>\n",
       "      <th>channel</th>\n",
       "      <th>clicks</th>\n",
       "      <th>latency</th>\n",
       "      <th>client_id</th>\n",
       "      <th>country</th>\n",
       "      <th>source</th>\n",
       "      <th>converted</th>\n",
       "    </tr>\n",
       "  </thead>\n",
       "  <tbody>\n",
       "    <tr>\n",
       "      <th>0</th>\n",
       "      <td>0</td>\n",
       "      <td>0</td>\n",
       "      <td>postid_4057</td>\n",
       "      <td>smm</td>\n",
       "      <td>1.0</td>\n",
       "      <td>2.649725</td>\n",
       "      <td>1442498</td>\n",
       "      <td>IT</td>\n",
       "      <td>post</td>\n",
       "      <td>False</td>\n",
       "    </tr>\n",
       "    <tr>\n",
       "      <th>1</th>\n",
       "      <td>0</td>\n",
       "      <td>0</td>\n",
       "      <td>postid_4057</td>\n",
       "      <td>smm</td>\n",
       "      <td>1.0</td>\n",
       "      <td>2.649725</td>\n",
       "      <td>1442498</td>\n",
       "      <td>IT</td>\n",
       "      <td>post</td>\n",
       "      <td>False</td>\n",
       "    </tr>\n",
       "    <tr>\n",
       "      <th>2</th>\n",
       "      <td>1</td>\n",
       "      <td>0</td>\n",
       "      <td>telegram</td>\n",
       "      <td>affiliate</td>\n",
       "      <td>10.0</td>\n",
       "      <td>2.610846</td>\n",
       "      <td>7865631</td>\n",
       "      <td>LU</td>\n",
       "      <td>telegram</td>\n",
       "      <td>False</td>\n",
       "    </tr>\n",
       "    <tr>\n",
       "      <th>3</th>\n",
       "      <td>1</td>\n",
       "      <td>0</td>\n",
       "      <td>telegram</td>\n",
       "      <td>affiliate</td>\n",
       "      <td>10.0</td>\n",
       "      <td>2.610846</td>\n",
       "      <td>7865631</td>\n",
       "      <td>LU</td>\n",
       "      <td>telegram</td>\n",
       "      <td>False</td>\n",
       "    </tr>\n",
       "    <tr>\n",
       "      <th>4</th>\n",
       "      <td>2</td>\n",
       "      <td>0</td>\n",
       "      <td>postid_8542</td>\n",
       "      <td>facebook</td>\n",
       "      <td>13.0</td>\n",
       "      <td>3.001162</td>\n",
       "      <td>8165584</td>\n",
       "      <td>MO</td>\n",
       "      <td>post</td>\n",
       "      <td>False</td>\n",
       "    </tr>\n",
       "    <tr>\n",
       "      <th>...</th>\n",
       "      <td>...</td>\n",
       "      <td>...</td>\n",
       "      <td>...</td>\n",
       "      <td>...</td>\n",
       "      <td>...</td>\n",
       "      <td>...</td>\n",
       "      <td>...</td>\n",
       "      <td>...</td>\n",
       "      <td>...</td>\n",
       "      <td>...</td>\n",
       "    </tr>\n",
       "    <tr>\n",
       "      <th>219309</th>\n",
       "      <td>157555</td>\n",
       "      <td>0</td>\n",
       "      <td>telegram</td>\n",
       "      <td>smm</td>\n",
       "      <td>29.0</td>\n",
       "      <td>1.699514</td>\n",
       "      <td>5942604</td>\n",
       "      <td>ES</td>\n",
       "      <td>telegram</td>\n",
       "      <td>False</td>\n",
       "    </tr>\n",
       "    <tr>\n",
       "      <th>219310</th>\n",
       "      <td>157556</td>\n",
       "      <td>0</td>\n",
       "      <td>telegram</td>\n",
       "      <td>social media</td>\n",
       "      <td>0.0</td>\n",
       "      <td>1.803509</td>\n",
       "      <td>1391815</td>\n",
       "      <td>IN</td>\n",
       "      <td>telegram</td>\n",
       "      <td>False</td>\n",
       "    </tr>\n",
       "    <tr>\n",
       "      <th>219311</th>\n",
       "      <td>157557</td>\n",
       "      <td>0</td>\n",
       "      <td>postid_4873</td>\n",
       "      <td>facebook</td>\n",
       "      <td>2.0</td>\n",
       "      <td>1.801382</td>\n",
       "      <td>3967839</td>\n",
       "      <td>IN</td>\n",
       "      <td>post</td>\n",
       "      <td>False</td>\n",
       "    </tr>\n",
       "    <tr>\n",
       "      <th>219312</th>\n",
       "      <td>157558</td>\n",
       "      <td>0</td>\n",
       "      <td>postid_2733</td>\n",
       "      <td>facebook</td>\n",
       "      <td>0.0</td>\n",
       "      <td>3.846842</td>\n",
       "      <td>7962805</td>\n",
       "      <td>US</td>\n",
       "      <td>post</td>\n",
       "      <td>False</td>\n",
       "    </tr>\n",
       "    <tr>\n",
       "      <th>219313</th>\n",
       "      <td>157559</td>\n",
       "      <td>0</td>\n",
       "      <td>postid_8540</td>\n",
       "      <td>smm</td>\n",
       "      <td>0.0</td>\n",
       "      <td>4.848225</td>\n",
       "      <td>5903332</td>\n",
       "      <td>LT</td>\n",
       "      <td>post</td>\n",
       "      <td>False</td>\n",
       "    </tr>\n",
       "  </tbody>\n",
       "</table>\n",
       "<p>219314 rows × 10 columns</p>\n",
       "</div>"
      ],
      "text/plain": [
       "        Unnamed: 0  depo      segment       channel  clicks   latency  \\\n",
       "0                0     0  postid_4057           smm     1.0  2.649725   \n",
       "1                0     0  postid_4057           smm     1.0  2.649725   \n",
       "2                1     0     telegram     affiliate    10.0  2.610846   \n",
       "3                1     0     telegram     affiliate    10.0  2.610846   \n",
       "4                2     0  postid_8542      facebook    13.0  3.001162   \n",
       "...            ...   ...          ...           ...     ...       ...   \n",
       "219309      157555     0     telegram           smm    29.0  1.699514   \n",
       "219310      157556     0     telegram  social media     0.0  1.803509   \n",
       "219311      157557     0  postid_4873      facebook     2.0  1.801382   \n",
       "219312      157558     0  postid_2733      facebook     0.0  3.846842   \n",
       "219313      157559     0  postid_8540           smm     0.0  4.848225   \n",
       "\n",
       "        client_id country    source  converted  \n",
       "0         1442498      IT      post      False  \n",
       "1         1442498      IT      post      False  \n",
       "2         7865631      LU  telegram      False  \n",
       "3         7865631      LU  telegram      False  \n",
       "4         8165584      MO      post      False  \n",
       "...           ...     ...       ...        ...  \n",
       "219309    5942604      ES  telegram      False  \n",
       "219310    1391815      IN  telegram      False  \n",
       "219311    3967839      IN      post      False  \n",
       "219312    7962805      US      post      False  \n",
       "219313    5903332      LT      post      False  \n",
       "\n",
       "[219314 rows x 10 columns]"
      ]
     },
     "execution_count": 481,
     "metadata": {},
     "output_type": "execute_result"
    }
   ],
   "source": [
    "# check what we have now\n",
    "\n",
    "general_df"
   ]
  },
  {
   "cell_type": "code",
   "execution_count": 482,
   "metadata": {},
   "outputs": [
    {
     "data": {
      "text/html": [
       "<div>\n",
       "<style scoped>\n",
       "    .dataframe tbody tr th:only-of-type {\n",
       "        vertical-align: middle;\n",
       "    }\n",
       "\n",
       "    .dataframe tbody tr th {\n",
       "        vertical-align: top;\n",
       "    }\n",
       "\n",
       "    .dataframe thead th {\n",
       "        text-align: right;\n",
       "    }\n",
       "</style>\n",
       "<table border=\"1\" class=\"dataframe\">\n",
       "  <thead>\n",
       "    <tr style=\"text-align: right;\">\n",
       "      <th></th>\n",
       "      <th>Unnamed: 0</th>\n",
       "      <th>depo</th>\n",
       "      <th>segment</th>\n",
       "      <th>channel</th>\n",
       "      <th>clicks</th>\n",
       "      <th>latency</th>\n",
       "      <th>client_id</th>\n",
       "      <th>country</th>\n",
       "      <th>source</th>\n",
       "      <th>converted</th>\n",
       "    </tr>\n",
       "  </thead>\n",
       "  <tbody>\n",
       "    <tr>\n",
       "      <th>count</th>\n",
       "      <td>219314.000000</td>\n",
       "      <td>219314.000000</td>\n",
       "      <td>219314</td>\n",
       "      <td>219314</td>\n",
       "      <td>219314.000000</td>\n",
       "      <td>219314.000000</td>\n",
       "      <td>2.193140e+05</td>\n",
       "      <td>219314</td>\n",
       "      <td>219314</td>\n",
       "      <td>219314</td>\n",
       "    </tr>\n",
       "    <tr>\n",
       "      <th>unique</th>\n",
       "      <td>NaN</td>\n",
       "      <td>NaN</td>\n",
       "      <td>9801</td>\n",
       "      <td>6</td>\n",
       "      <td>NaN</td>\n",
       "      <td>NaN</td>\n",
       "      <td>NaN</td>\n",
       "      <td>11</td>\n",
       "      <td>2</td>\n",
       "      <td>2</td>\n",
       "    </tr>\n",
       "    <tr>\n",
       "      <th>top</th>\n",
       "      <td>NaN</td>\n",
       "      <td>NaN</td>\n",
       "      <td>telegram</td>\n",
       "      <td>facebook</td>\n",
       "      <td>NaN</td>\n",
       "      <td>NaN</td>\n",
       "      <td>NaN</td>\n",
       "      <td>DE</td>\n",
       "      <td>post</td>\n",
       "      <td>False</td>\n",
       "    </tr>\n",
       "    <tr>\n",
       "      <th>freq</th>\n",
       "      <td>NaN</td>\n",
       "      <td>NaN</td>\n",
       "      <td>61940</td>\n",
       "      <td>76517</td>\n",
       "      <td>NaN</td>\n",
       "      <td>NaN</td>\n",
       "      <td>NaN</td>\n",
       "      <td>20202</td>\n",
       "      <td>157374</td>\n",
       "      <td>209281</td>\n",
       "    </tr>\n",
       "    <tr>\n",
       "      <th>mean</th>\n",
       "      <td>65291.068518</td>\n",
       "      <td>21.349207</td>\n",
       "      <td>NaN</td>\n",
       "      <td>NaN</td>\n",
       "      <td>11.428190</td>\n",
       "      <td>3.022827</td>\n",
       "      <td>4.992632e+06</td>\n",
       "      <td>NaN</td>\n",
       "      <td>NaN</td>\n",
       "      <td>NaN</td>\n",
       "    </tr>\n",
       "    <tr>\n",
       "      <th>std</th>\n",
       "      <td>45165.661814</td>\n",
       "      <td>368.334720</td>\n",
       "      <td>NaN</td>\n",
       "      <td>NaN</td>\n",
       "      <td>12.627812</td>\n",
       "      <td>1.047155</td>\n",
       "      <td>2.310152e+06</td>\n",
       "      <td>NaN</td>\n",
       "      <td>NaN</td>\n",
       "      <td>NaN</td>\n",
       "    </tr>\n",
       "    <tr>\n",
       "      <th>min</th>\n",
       "      <td>0.000000</td>\n",
       "      <td>-164.000000</td>\n",
       "      <td>NaN</td>\n",
       "      <td>NaN</td>\n",
       "      <td>0.000000</td>\n",
       "      <td>0.000071</td>\n",
       "      <td>1.000126e+06</td>\n",
       "      <td>NaN</td>\n",
       "      <td>NaN</td>\n",
       "      <td>NaN</td>\n",
       "    </tr>\n",
       "    <tr>\n",
       "      <th>25%</th>\n",
       "      <td>27414.000000</td>\n",
       "      <td>0.000000</td>\n",
       "      <td>NaN</td>\n",
       "      <td>NaN</td>\n",
       "      <td>0.000000</td>\n",
       "      <td>2.323893</td>\n",
       "      <td>2.989190e+06</td>\n",
       "      <td>NaN</td>\n",
       "      <td>NaN</td>\n",
       "      <td>NaN</td>\n",
       "    </tr>\n",
       "    <tr>\n",
       "      <th>50%</th>\n",
       "      <td>54828.000000</td>\n",
       "      <td>0.000000</td>\n",
       "      <td>NaN</td>\n",
       "      <td>NaN</td>\n",
       "      <td>8.000000</td>\n",
       "      <td>3.004932</td>\n",
       "      <td>4.987345e+06</td>\n",
       "      <td>NaN</td>\n",
       "      <td>NaN</td>\n",
       "      <td>NaN</td>\n",
       "    </tr>\n",
       "    <tr>\n",
       "      <th>75%</th>\n",
       "      <td>102730.750000</td>\n",
       "      <td>0.000000</td>\n",
       "      <td>NaN</td>\n",
       "      <td>NaN</td>\n",
       "      <td>19.000000</td>\n",
       "      <td>3.691859</td>\n",
       "      <td>6.994740e+06</td>\n",
       "      <td>NaN</td>\n",
       "      <td>NaN</td>\n",
       "      <td>NaN</td>\n",
       "    </tr>\n",
       "    <tr>\n",
       "      <th>max</th>\n",
       "      <td>157559.000000</td>\n",
       "      <td>29527.000000</td>\n",
       "      <td>NaN</td>\n",
       "      <td>NaN</td>\n",
       "      <td>50.000000</td>\n",
       "      <td>11.016521</td>\n",
       "      <td>8.999961e+06</td>\n",
       "      <td>NaN</td>\n",
       "      <td>NaN</td>\n",
       "      <td>NaN</td>\n",
       "    </tr>\n",
       "  </tbody>\n",
       "</table>\n",
       "</div>"
      ],
      "text/plain": [
       "           Unnamed: 0           depo   segment   channel         clicks  \\\n",
       "count   219314.000000  219314.000000    219314    219314  219314.000000   \n",
       "unique            NaN            NaN      9801         6            NaN   \n",
       "top               NaN            NaN  telegram  facebook            NaN   \n",
       "freq              NaN            NaN     61940     76517            NaN   \n",
       "mean     65291.068518      21.349207       NaN       NaN      11.428190   \n",
       "std      45165.661814     368.334720       NaN       NaN      12.627812   \n",
       "min          0.000000    -164.000000       NaN       NaN       0.000000   \n",
       "25%      27414.000000       0.000000       NaN       NaN       0.000000   \n",
       "50%      54828.000000       0.000000       NaN       NaN       8.000000   \n",
       "75%     102730.750000       0.000000       NaN       NaN      19.000000   \n",
       "max     157559.000000   29527.000000       NaN       NaN      50.000000   \n",
       "\n",
       "              latency     client_id country  source converted  \n",
       "count   219314.000000  2.193140e+05  219314  219314    219314  \n",
       "unique            NaN           NaN      11       2         2  \n",
       "top               NaN           NaN      DE    post     False  \n",
       "freq              NaN           NaN   20202  157374    209281  \n",
       "mean         3.022827  4.992632e+06     NaN     NaN       NaN  \n",
       "std          1.047155  2.310152e+06     NaN     NaN       NaN  \n",
       "min          0.000071  1.000126e+06     NaN     NaN       NaN  \n",
       "25%          2.323893  2.989190e+06     NaN     NaN       NaN  \n",
       "50%          3.004932  4.987345e+06     NaN     NaN       NaN  \n",
       "75%          3.691859  6.994740e+06     NaN     NaN       NaN  \n",
       "max         11.016521  8.999961e+06     NaN     NaN       NaN  "
      ]
     },
     "execution_count": 482,
     "metadata": {},
     "output_type": "execute_result"
    }
   ],
   "source": [
    "general_df.describe(include = \"all\")"
   ]
  },
  {
   "cell_type": "code",
   "execution_count": 483,
   "metadata": {},
   "outputs": [
    {
     "name": "stdout",
     "output_type": "stream",
     "text": [
      "<class 'pandas.core.frame.DataFrame'>\n",
      "Int64Index: 219314 entries, 0 to 219313\n",
      "Data columns (total 10 columns):\n",
      " #   Column      Non-Null Count   Dtype  \n",
      "---  ------      --------------   -----  \n",
      " 0   Unnamed: 0  219314 non-null  int64  \n",
      " 1   depo        219314 non-null  int64  \n",
      " 2   segment     219314 non-null  object \n",
      " 3   channel     219314 non-null  object \n",
      " 4   clicks      219314 non-null  float64\n",
      " 5   latency     219314 non-null  float64\n",
      " 6   client_id   219314 non-null  int64  \n",
      " 7   country     219314 non-null  object \n",
      " 8   source      219314 non-null  object \n",
      " 9   converted   219314 non-null  bool   \n",
      "dtypes: bool(1), float64(2), int64(3), object(4)\n",
      "memory usage: 16.9+ MB\n",
      "None\n"
     ]
    }
   ],
   "source": [
    "print(general_df.info())"
   ]
  },
  {
   "cell_type": "code",
   "execution_count": 484,
   "metadata": {},
   "outputs": [
    {
     "data": {
      "text/html": [
       "<div>\n",
       "<style scoped>\n",
       "    .dataframe tbody tr th:only-of-type {\n",
       "        vertical-align: middle;\n",
       "    }\n",
       "\n",
       "    .dataframe tbody tr th {\n",
       "        vertical-align: top;\n",
       "    }\n",
       "\n",
       "    .dataframe thead th {\n",
       "        text-align: right;\n",
       "    }\n",
       "</style>\n",
       "<table border=\"1\" class=\"dataframe\">\n",
       "  <thead>\n",
       "    <tr style=\"text-align: right;\">\n",
       "      <th></th>\n",
       "      <th>country</th>\n",
       "      <th>client_id</th>\n",
       "    </tr>\n",
       "  </thead>\n",
       "  <tbody>\n",
       "    <tr>\n",
       "      <th>0</th>\n",
       "      <td>DE</td>\n",
       "      <td>14504</td>\n",
       "    </tr>\n",
       "    <tr>\n",
       "      <th>1</th>\n",
       "      <td>ES</td>\n",
       "      <td>14443</td>\n",
       "    </tr>\n",
       "    <tr>\n",
       "      <th>9</th>\n",
       "      <td>US</td>\n",
       "      <td>14427</td>\n",
       "    </tr>\n",
       "    <tr>\n",
       "      <th>4</th>\n",
       "      <td>IS</td>\n",
       "      <td>14407</td>\n",
       "    </tr>\n",
       "    <tr>\n",
       "      <th>10</th>\n",
       "      <td>VN</td>\n",
       "      <td>14374</td>\n",
       "    </tr>\n",
       "    <tr>\n",
       "      <th>6</th>\n",
       "      <td>LT</td>\n",
       "      <td>14341</td>\n",
       "    </tr>\n",
       "    <tr>\n",
       "      <th>2</th>\n",
       "      <td>FR</td>\n",
       "      <td>14292</td>\n",
       "    </tr>\n",
       "    <tr>\n",
       "      <th>8</th>\n",
       "      <td>MO</td>\n",
       "      <td>14226</td>\n",
       "    </tr>\n",
       "    <tr>\n",
       "      <th>3</th>\n",
       "      <td>IN</td>\n",
       "      <td>14215</td>\n",
       "    </tr>\n",
       "    <tr>\n",
       "      <th>5</th>\n",
       "      <td>IT</td>\n",
       "      <td>14211</td>\n",
       "    </tr>\n",
       "    <tr>\n",
       "      <th>7</th>\n",
       "      <td>LU</td>\n",
       "      <td>14120</td>\n",
       "    </tr>\n",
       "  </tbody>\n",
       "</table>\n",
       "</div>"
      ],
      "text/plain": [
       "   country  client_id\n",
       "0       DE      14504\n",
       "1       ES      14443\n",
       "9       US      14427\n",
       "4       IS      14407\n",
       "10      VN      14374\n",
       "6       LT      14341\n",
       "2       FR      14292\n",
       "8       MO      14226\n",
       "3       IN      14215\n",
       "5       IT      14211\n",
       "7       LU      14120"
      ]
     },
     "execution_count": 484,
     "metadata": {},
     "output_type": "execute_result"
    }
   ],
   "source": [
    "# let's answer the question how users (leads) are distributed over countries? \n",
    "general_df \\\n",
    "        .groupby('country', as_index = False)\\\n",
    "        ['client_id'].nunique() \\\n",
    "        .sort_values('client_id', ascending=False)"
   ]
  },
  {
   "cell_type": "markdown",
   "metadata": {},
   "source": [
    "No vizualization needed to see that users are distributed evenly."
   ]
  },
  {
   "cell_type": "code",
   "execution_count": 485,
   "metadata": {},
   "outputs": [
    {
     "data": {
      "text/html": [
       "<div>\n",
       "<style scoped>\n",
       "    .dataframe tbody tr th:only-of-type {\n",
       "        vertical-align: middle;\n",
       "    }\n",
       "\n",
       "    .dataframe tbody tr th {\n",
       "        vertical-align: top;\n",
       "    }\n",
       "\n",
       "    .dataframe thead th {\n",
       "        text-align: right;\n",
       "    }\n",
       "</style>\n",
       "<table border=\"1\" class=\"dataframe\">\n",
       "  <thead>\n",
       "    <tr style=\"text-align: right;\">\n",
       "      <th></th>\n",
       "      <th>country</th>\n",
       "      <th>client_id</th>\n",
       "    </tr>\n",
       "  </thead>\n",
       "  <tbody>\n",
       "    <tr>\n",
       "      <th>4</th>\n",
       "      <td>IS</td>\n",
       "      <td>691</td>\n",
       "    </tr>\n",
       "    <tr>\n",
       "      <th>0</th>\n",
       "      <td>DE</td>\n",
       "      <td>680</td>\n",
       "    </tr>\n",
       "    <tr>\n",
       "      <th>3</th>\n",
       "      <td>IN</td>\n",
       "      <td>678</td>\n",
       "    </tr>\n",
       "    <tr>\n",
       "      <th>10</th>\n",
       "      <td>VN</td>\n",
       "      <td>674</td>\n",
       "    </tr>\n",
       "    <tr>\n",
       "      <th>9</th>\n",
       "      <td>US</td>\n",
       "      <td>667</td>\n",
       "    </tr>\n",
       "    <tr>\n",
       "      <th>1</th>\n",
       "      <td>ES</td>\n",
       "      <td>661</td>\n",
       "    </tr>\n",
       "    <tr>\n",
       "      <th>6</th>\n",
       "      <td>LT</td>\n",
       "      <td>655</td>\n",
       "    </tr>\n",
       "    <tr>\n",
       "      <th>5</th>\n",
       "      <td>IT</td>\n",
       "      <td>653</td>\n",
       "    </tr>\n",
       "    <tr>\n",
       "      <th>7</th>\n",
       "      <td>LU</td>\n",
       "      <td>650</td>\n",
       "    </tr>\n",
       "    <tr>\n",
       "      <th>2</th>\n",
       "      <td>FR</td>\n",
       "      <td>627</td>\n",
       "    </tr>\n",
       "    <tr>\n",
       "      <th>8</th>\n",
       "      <td>MO</td>\n",
       "      <td>621</td>\n",
       "    </tr>\n",
       "  </tbody>\n",
       "</table>\n",
       "</div>"
      ],
      "text/plain": [
       "   country  client_id\n",
       "4       IS        691\n",
       "0       DE        680\n",
       "3       IN        678\n",
       "10      VN        674\n",
       "9       US        667\n",
       "1       ES        661\n",
       "6       LT        655\n",
       "5       IT        653\n",
       "7       LU        650\n",
       "2       FR        627\n",
       "8       MO        621"
      ]
     },
     "execution_count": 485,
     "metadata": {},
     "output_type": "execute_result"
    }
   ],
   "source": [
    "# let's answer the question how clients are distributed over countries? \n",
    "\n",
    "general_df.query('converted == True') \\\n",
    "          .groupby('country', as_index = False)\\\n",
    "          ['client_id'].nunique() \\\n",
    "          .sort_values('client_id', ascending=False)"
   ]
  },
  {
   "cell_type": "markdown",
   "metadata": {},
   "source": [
    "Clients are also distributed evenly."
   ]
  },
  {
   "cell_type": "markdown",
   "metadata": {},
   "source": [
    "Clicks - amount of clicks user made during first day after registration.\n",
    "Latency - time of application loading in miliseconds.\n",
    "Let's check if these factors have correlation with conversion. "
   ]
  },
  {
   "cell_type": "code",
   "execution_count": 489,
   "metadata": {},
   "outputs": [
    {
     "data": {
      "text/plain": [
       "latency        7.971682\n",
       "client_id    215.000000\n",
       "dtype: float64"
      ]
     },
     "execution_count": 489,
     "metadata": {},
     "output_type": "execute_result"
    }
   ],
   "source": [
    "general_df.query('converted == False') \\\n",
    "          .groupby('latency', as_index = False)\\\n",
    "          ['client_id'].nunique() \\\n",
    "          .sort_values('latency', ascending=False) \\\n",
    "          .max()"
   ]
  },
  {
   "cell_type": "code",
   "execution_count": 490,
   "metadata": {},
   "outputs": [
    {
     "data": {
      "text/plain": [
       "latency       11.016521\n",
       "client_id    175.000000\n",
       "dtype: float64"
      ]
     },
     "execution_count": 490,
     "metadata": {},
     "output_type": "execute_result"
    }
   ],
   "source": [
    "general_df.query('converted == True') \\\n",
    "          .groupby('latency', as_index = False)\\\n",
    "          ['client_id'].nunique() \\\n",
    "          .sort_values('latency', ascending=False) \\\n",
    "          .max()"
   ]
  },
  {
   "cell_type": "markdown",
   "metadata": {},
   "source": [
    "Latency is higher for clients. As we can see it doesn't affect the conversion."
   ]
  },
  {
   "cell_type": "code",
   "execution_count": 491,
   "metadata": {},
   "outputs": [
    {
     "data": {
      "text/plain": [
       "clicks          50.0\n",
       "client_id    51710.0\n",
       "dtype: float64"
      ]
     },
     "execution_count": 491,
     "metadata": {},
     "output_type": "execute_result"
    }
   ],
   "source": [
    "general_df.query('converted == False') \\\n",
    "          .groupby('clicks', as_index = False) \\\n",
    "          ['client_id'].nunique() \\\n",
    "          .sort_values('clicks', ascending=False) \\\n",
    "          .max()"
   ]
  },
  {
   "cell_type": "code",
   "execution_count": 492,
   "metadata": {},
   "outputs": [
    {
     "data": {
      "text/plain": [
       "clicks         50.0\n",
       "client_id    2504.0\n",
       "dtype: float64"
      ]
     },
     "execution_count": 492,
     "metadata": {},
     "output_type": "execute_result"
    }
   ],
   "source": [
    "general_df.query('converted == True') \\\n",
    "          .groupby('clicks', as_index = False) \\\n",
    "          ['client_id'].nunique() \\\n",
    "          .sort_values('clicks', ascending=False) \\\n",
    "          .max()"
   ]
  },
  {
   "cell_type": "markdown",
   "metadata": {},
   "source": [
    "Clicks count are same for both leads and clients, it doesn't affect the conversion."
   ]
  },
  {
   "cell_type": "markdown",
   "metadata": {},
   "source": [
    "Now let's check how many outliers are there in data (in terms of deposits). Since we are checking only clients (who made a deposit), let's create a separate dataframe with clients only for our convenience. Then we are going to check 25th and 75th percentiles marking the middle boundaries."
   ]
  },
  {
   "cell_type": "code",
   "execution_count": 494,
   "metadata": {},
   "outputs": [
    {
     "data": {
      "text/plain": [
       "count    10033.00\n",
       "mean       466.68\n",
       "std       1660.75\n",
       "min       -164.00\n",
       "25%        211.00\n",
       "50%        321.00\n",
       "75%        428.00\n",
       "max      29527.00\n",
       "Name: depo, dtype: float64"
      ]
     },
     "execution_count": 494,
     "metadata": {},
     "output_type": "execute_result"
    }
   ],
   "source": [
    "# Let's create a separate dataframe with clients only and check its describtion.\n",
    "\n",
    "clients = general_df.query('depo != 0')\n",
    "clients['depo'].describe().round(2)"
   ]
  },
  {
   "cell_type": "code",
   "execution_count": 495,
   "metadata": {},
   "outputs": [
    {
     "data": {
      "text/plain": [
       "(10033, 10)"
      ]
     },
     "execution_count": 495,
     "metadata": {},
     "output_type": "execute_result"
    }
   ],
   "source": [
    "# double-check our clients count \n",
    "\n",
    "general_df.query('converted == True').shape"
   ]
  },
  {
   "cell_type": "code",
   "execution_count": 496,
   "metadata": {},
   "outputs": [
    {
     "name": "stdout",
     "output_type": "stream",
     "text": [
      "4682180\n",
      "depo    1522378\n",
      "dtype: int64\n",
      "depo    32.51\n",
      "dtype: float64\n"
     ]
    }
   ],
   "source": [
    "# What is the total depo amount for outliers and what part do they take in total amount.\n",
    "\n",
    "total_depo = clients.depo.sum()\n",
    "outliers_depo = clients.query('depo < -114.5' and 'depo > 753.5').agg({'depo': 'sum'})\n",
    "outliers_vs_total_depo = round(outliers_depo / total_depo * 100, 2)\n",
    "\n",
    "print(total_depo)\n",
    "print(outliers_depo)\n",
    "print(outliers_vs_total_depo)"
   ]
  },
  {
   "cell_type": "markdown",
   "metadata": {},
   "source": [
    "Total depo amount is USD 4 682 180.\n",
    "Total depo amount for outliers is USD 1 522 378.\n",
    "32.51 % of total depo are outliers."
   ]
  },
  {
   "cell_type": "code",
   "execution_count": 497,
   "metadata": {},
   "outputs": [
    {
     "data": {
      "text/plain": [
       "<AxesSubplot:xlabel='depo'>"
      ]
     },
     "execution_count": 497,
     "metadata": {},
     "output_type": "execute_result"
    },
    {
     "data": {
      "image/png": "[encoded data removed]",
      "text/plain": [
       "<Figure size 640x480 with 1 Axes>"
      ]
     },
     "metadata": {},
     "output_type": "display_data"
    }
   ],
   "source": [
    "# let's vizualize outliers\n",
    "\n",
    "sns.boxplot(x=clients['depo'])"
   ]
  },
  {
   "cell_type": "code",
   "execution_count": 498,
   "metadata": {},
   "outputs": [
    {
     "data": {
      "text/plain": [
       "98"
      ]
     },
     "execution_count": 498,
     "metadata": {},
     "output_type": "execute_result"
    }
   ],
   "source": [
    "# How many outliers are there in data (in terms of deposits)? We will use Tukey’s rule to calculate.\n",
    "\n",
    "Q1 = clients.depo.quantile(0.25)\n",
    "Q3 = clients.depo.quantile(0.75)\n",
    "IQR = Q3 - Q1\n",
    "\n",
    "((clients.depo < (Q1 - 1.5 * IQR)) | (clients.depo > (Q3 + 1.5 * IQR))).sum()"
   ]
  },
  {
   "cell_type": "code",
   "execution_count": 499,
   "metadata": {},
   "outputs": [
    {
     "name": "stdout",
     "output_type": "stream",
     "text": [
      "-114.5\n",
      "753.5\n"
     ]
    }
   ],
   "source": [
    "print(Q1 - 1.5 * IQR)\n",
    "print(Q3 + 1.5 * IQR)"
   ]
  },
  {
   "cell_type": "markdown",
   "metadata": {},
   "source": [
    "As we can see our outliers lie beyond -114.5 and 753.5 depos. Let's check where they came from."
   ]
  },
  {
   "cell_type": "code",
   "execution_count": 500,
   "metadata": {},
   "outputs": [
    {
     "data": {
      "text/html": [
       "<div>\n",
       "<style scoped>\n",
       "    .dataframe tbody tr th:only-of-type {\n",
       "        vertical-align: middle;\n",
       "    }\n",
       "\n",
       "    .dataframe tbody tr th {\n",
       "        vertical-align: top;\n",
       "    }\n",
       "\n",
       "    .dataframe thead th {\n",
       "        text-align: right;\n",
       "    }\n",
       "</style>\n",
       "<table border=\"1\" class=\"dataframe\">\n",
       "  <thead>\n",
       "    <tr style=\"text-align: right;\">\n",
       "      <th></th>\n",
       "      <th>channel</th>\n",
       "      <th>source</th>\n",
       "      <th>country</th>\n",
       "      <th>depo</th>\n",
       "    </tr>\n",
       "  </thead>\n",
       "  <tbody>\n",
       "    <tr>\n",
       "      <th>9</th>\n",
       "      <td>facebook</td>\n",
       "      <td>post</td>\n",
       "      <td>ES</td>\n",
       "      <td>7</td>\n",
       "    </tr>\n",
       "    <tr>\n",
       "      <th>17</th>\n",
       "      <td>facebook</td>\n",
       "      <td>post</td>\n",
       "      <td>US</td>\n",
       "      <td>6</td>\n",
       "    </tr>\n",
       "    <tr>\n",
       "      <th>14</th>\n",
       "      <td>facebook</td>\n",
       "      <td>post</td>\n",
       "      <td>LT</td>\n",
       "      <td>5</td>\n",
       "    </tr>\n",
       "    <tr>\n",
       "      <th>18</th>\n",
       "      <td>facebook</td>\n",
       "      <td>post</td>\n",
       "      <td>VN</td>\n",
       "      <td>5</td>\n",
       "    </tr>\n",
       "    <tr>\n",
       "      <th>32</th>\n",
       "      <td>smm</td>\n",
       "      <td>telegram</td>\n",
       "      <td>DE</td>\n",
       "      <td>4</td>\n",
       "    </tr>\n",
       "    <tr>\n",
       "      <th>31</th>\n",
       "      <td>smm</td>\n",
       "      <td>post</td>\n",
       "      <td>VN</td>\n",
       "      <td>4</td>\n",
       "    </tr>\n",
       "    <tr>\n",
       "      <th>42</th>\n",
       "      <td>social media</td>\n",
       "      <td>telegram</td>\n",
       "      <td>LT</td>\n",
       "      <td>4</td>\n",
       "    </tr>\n",
       "    <tr>\n",
       "      <th>11</th>\n",
       "      <td>facebook</td>\n",
       "      <td>post</td>\n",
       "      <td>IN</td>\n",
       "      <td>4</td>\n",
       "    </tr>\n",
       "    <tr>\n",
       "      <th>23</th>\n",
       "      <td>smm</td>\n",
       "      <td>post</td>\n",
       "      <td>ES</td>\n",
       "      <td>3</td>\n",
       "    </tr>\n",
       "    <tr>\n",
       "      <th>5</th>\n",
       "      <td>direct</td>\n",
       "      <td>post</td>\n",
       "      <td>MO</td>\n",
       "      <td>3</td>\n",
       "    </tr>\n",
       "    <tr>\n",
       "      <th>15</th>\n",
       "      <td>facebook</td>\n",
       "      <td>post</td>\n",
       "      <td>LU</td>\n",
       "      <td>3</td>\n",
       "    </tr>\n",
       "    <tr>\n",
       "      <th>8</th>\n",
       "      <td>facebook</td>\n",
       "      <td>post</td>\n",
       "      <td>DE</td>\n",
       "      <td>3</td>\n",
       "    </tr>\n",
       "    <tr>\n",
       "      <th>30</th>\n",
       "      <td>smm</td>\n",
       "      <td>post</td>\n",
       "      <td>US</td>\n",
       "      <td>2</td>\n",
       "    </tr>\n",
       "    <tr>\n",
       "      <th>21</th>\n",
       "      <td>facebook</td>\n",
       "      <td>telegram</td>\n",
       "      <td>IT</td>\n",
       "      <td>2</td>\n",
       "    </tr>\n",
       "    <tr>\n",
       "      <th>29</th>\n",
       "      <td>smm</td>\n",
       "      <td>post</td>\n",
       "      <td>MO</td>\n",
       "      <td>2</td>\n",
       "    </tr>\n",
       "    <tr>\n",
       "      <th>19</th>\n",
       "      <td>facebook</td>\n",
       "      <td>telegram</td>\n",
       "      <td>DE</td>\n",
       "      <td>2</td>\n",
       "    </tr>\n",
       "    <tr>\n",
       "      <th>24</th>\n",
       "      <td>smm</td>\n",
       "      <td>post</td>\n",
       "      <td>FR</td>\n",
       "      <td>2</td>\n",
       "    </tr>\n",
       "    <tr>\n",
       "      <th>13</th>\n",
       "      <td>facebook</td>\n",
       "      <td>post</td>\n",
       "      <td>IT</td>\n",
       "      <td>2</td>\n",
       "    </tr>\n",
       "    <tr>\n",
       "      <th>16</th>\n",
       "      <td>facebook</td>\n",
       "      <td>post</td>\n",
       "      <td>MO</td>\n",
       "      <td>2</td>\n",
       "    </tr>\n",
       "    <tr>\n",
       "      <th>27</th>\n",
       "      <td>smm</td>\n",
       "      <td>post</td>\n",
       "      <td>LT</td>\n",
       "      <td>2</td>\n",
       "    </tr>\n",
       "    <tr>\n",
       "      <th>12</th>\n",
       "      <td>facebook</td>\n",
       "      <td>post</td>\n",
       "      <td>IS</td>\n",
       "      <td>2</td>\n",
       "    </tr>\n",
       "    <tr>\n",
       "      <th>10</th>\n",
       "      <td>facebook</td>\n",
       "      <td>post</td>\n",
       "      <td>FR</td>\n",
       "      <td>2</td>\n",
       "    </tr>\n",
       "    <tr>\n",
       "      <th>4</th>\n",
       "      <td>direct</td>\n",
       "      <td>post</td>\n",
       "      <td>LU</td>\n",
       "      <td>2</td>\n",
       "    </tr>\n",
       "    <tr>\n",
       "      <th>43</th>\n",
       "      <td>social media</td>\n",
       "      <td>telegram</td>\n",
       "      <td>LU</td>\n",
       "      <td>2</td>\n",
       "    </tr>\n",
       "    <tr>\n",
       "      <th>25</th>\n",
       "      <td>smm</td>\n",
       "      <td>post</td>\n",
       "      <td>IS</td>\n",
       "      <td>2</td>\n",
       "    </tr>\n",
       "    <tr>\n",
       "      <th>36</th>\n",
       "      <td>smm</td>\n",
       "      <td>telegram</td>\n",
       "      <td>IT</td>\n",
       "      <td>1</td>\n",
       "    </tr>\n",
       "    <tr>\n",
       "      <th>0</th>\n",
       "      <td>affiliate</td>\n",
       "      <td>telegram</td>\n",
       "      <td>IS</td>\n",
       "      <td>1</td>\n",
       "    </tr>\n",
       "    <tr>\n",
       "      <th>37</th>\n",
       "      <td>smm</td>\n",
       "      <td>telegram</td>\n",
       "      <td>LT</td>\n",
       "      <td>1</td>\n",
       "    </tr>\n",
       "    <tr>\n",
       "      <th>38</th>\n",
       "      <td>smm</td>\n",
       "      <td>telegram</td>\n",
       "      <td>MO</td>\n",
       "      <td>1</td>\n",
       "    </tr>\n",
       "    <tr>\n",
       "      <th>39</th>\n",
       "      <td>smm</td>\n",
       "      <td>telegram</td>\n",
       "      <td>US</td>\n",
       "      <td>1</td>\n",
       "    </tr>\n",
       "    <tr>\n",
       "      <th>34</th>\n",
       "      <td>smm</td>\n",
       "      <td>telegram</td>\n",
       "      <td>IN</td>\n",
       "      <td>1</td>\n",
       "    </tr>\n",
       "    <tr>\n",
       "      <th>40</th>\n",
       "      <td>social media</td>\n",
       "      <td>telegram</td>\n",
       "      <td>DE</td>\n",
       "      <td>1</td>\n",
       "    </tr>\n",
       "    <tr>\n",
       "      <th>41</th>\n",
       "      <td>social media</td>\n",
       "      <td>telegram</td>\n",
       "      <td>IS</td>\n",
       "      <td>1</td>\n",
       "    </tr>\n",
       "    <tr>\n",
       "      <th>35</th>\n",
       "      <td>smm</td>\n",
       "      <td>telegram</td>\n",
       "      <td>IS</td>\n",
       "      <td>1</td>\n",
       "    </tr>\n",
       "    <tr>\n",
       "      <th>22</th>\n",
       "      <td>smm</td>\n",
       "      <td>post</td>\n",
       "      <td>DE</td>\n",
       "      <td>1</td>\n",
       "    </tr>\n",
       "    <tr>\n",
       "      <th>33</th>\n",
       "      <td>smm</td>\n",
       "      <td>telegram</td>\n",
       "      <td>FR</td>\n",
       "      <td>1</td>\n",
       "    </tr>\n",
       "    <tr>\n",
       "      <th>28</th>\n",
       "      <td>smm</td>\n",
       "      <td>post</td>\n",
       "      <td>LU</td>\n",
       "      <td>1</td>\n",
       "    </tr>\n",
       "    <tr>\n",
       "      <th>26</th>\n",
       "      <td>smm</td>\n",
       "      <td>post</td>\n",
       "      <td>IT</td>\n",
       "      <td>1</td>\n",
       "    </tr>\n",
       "    <tr>\n",
       "      <th>1</th>\n",
       "      <td>direct</td>\n",
       "      <td>post</td>\n",
       "      <td>DE</td>\n",
       "      <td>1</td>\n",
       "    </tr>\n",
       "    <tr>\n",
       "      <th>20</th>\n",
       "      <td>facebook</td>\n",
       "      <td>telegram</td>\n",
       "      <td>ES</td>\n",
       "      <td>1</td>\n",
       "    </tr>\n",
       "    <tr>\n",
       "      <th>7</th>\n",
       "      <td>direct</td>\n",
       "      <td>telegram</td>\n",
       "      <td>ES</td>\n",
       "      <td>1</td>\n",
       "    </tr>\n",
       "    <tr>\n",
       "      <th>6</th>\n",
       "      <td>direct</td>\n",
       "      <td>telegram</td>\n",
       "      <td>DE</td>\n",
       "      <td>1</td>\n",
       "    </tr>\n",
       "    <tr>\n",
       "      <th>3</th>\n",
       "      <td>direct</td>\n",
       "      <td>post</td>\n",
       "      <td>IS</td>\n",
       "      <td>1</td>\n",
       "    </tr>\n",
       "    <tr>\n",
       "      <th>2</th>\n",
       "      <td>direct</td>\n",
       "      <td>post</td>\n",
       "      <td>IN</td>\n",
       "      <td>1</td>\n",
       "    </tr>\n",
       "    <tr>\n",
       "      <th>44</th>\n",
       "      <td>social media</td>\n",
       "      <td>telegram</td>\n",
       "      <td>MO</td>\n",
       "      <td>1</td>\n",
       "    </tr>\n",
       "  </tbody>\n",
       "</table>\n",
       "</div>"
      ],
      "text/plain": [
       "         channel    source country  depo\n",
       "9       facebook      post      ES     7\n",
       "17      facebook      post      US     6\n",
       "14      facebook      post      LT     5\n",
       "18      facebook      post      VN     5\n",
       "32           smm  telegram      DE     4\n",
       "31           smm      post      VN     4\n",
       "42  social media  telegram      LT     4\n",
       "11      facebook      post      IN     4\n",
       "23           smm      post      ES     3\n",
       "5         direct      post      MO     3\n",
       "15      facebook      post      LU     3\n",
       "8       facebook      post      DE     3\n",
       "30           smm      post      US     2\n",
       "21      facebook  telegram      IT     2\n",
       "29           smm      post      MO     2\n",
       "19      facebook  telegram      DE     2\n",
       "24           smm      post      FR     2\n",
       "13      facebook      post      IT     2\n",
       "16      facebook      post      MO     2\n",
       "27           smm      post      LT     2\n",
       "12      facebook      post      IS     2\n",
       "10      facebook      post      FR     2\n",
       "4         direct      post      LU     2\n",
       "43  social media  telegram      LU     2\n",
       "25           smm      post      IS     2\n",
       "36           smm  telegram      IT     1\n",
       "0      affiliate  telegram      IS     1\n",
       "37           smm  telegram      LT     1\n",
       "38           smm  telegram      MO     1\n",
       "39           smm  telegram      US     1\n",
       "34           smm  telegram      IN     1\n",
       "40  social media  telegram      DE     1\n",
       "41  social media  telegram      IS     1\n",
       "35           smm  telegram      IS     1\n",
       "22           smm      post      DE     1\n",
       "33           smm  telegram      FR     1\n",
       "28           smm      post      LU     1\n",
       "26           smm      post      IT     1\n",
       "1         direct      post      DE     1\n",
       "20      facebook  telegram      ES     1\n",
       "7         direct  telegram      ES     1\n",
       "6         direct  telegram      DE     1\n",
       "3         direct      post      IS     1\n",
       "2         direct      post      IN     1\n",
       "44  social media  telegram      MO     1"
      ]
     },
     "execution_count": 500,
     "metadata": {},
     "output_type": "execute_result"
    }
   ],
   "source": [
    "# Where are these outliers?\n",
    "\n",
    "clients.query('depo < -114.5' and 'depo > 753.5') \\\n",
    "       .groupby(['channel', 'source', 'country'], as_index = False)  \\\n",
    "       .agg({'depo': 'count'}) \\\n",
    "       .sort_values('depo', ascending=False)"
   ]
  },
  {
   "cell_type": "code",
   "execution_count": 503,
   "metadata": {},
   "outputs": [
    {
     "data": {
      "text/plain": [
       "<AxesSubplot:xlabel='channel', ylabel='depo'>"
      ]
     },
     "execution_count": 503,
     "metadata": {},
     "output_type": "execute_result"
    },
    {
     "data": {
      "image/png": "[encoded data removed]",
      "text/plain": [
       "<Figure size 640x480 with 1 Axes>"
      ]
     },
     "metadata": {},
     "output_type": "display_data"
    }
   ],
   "source": [
    "# Visualize outliers distribution over sources and channels\n",
    "\n",
    "outliers_depo_distribution = clients.query('depo < -114.5' and 'depo > 753.5') \\\n",
    "       .groupby(['channel', 'source', 'country'], as_index = False)  \\\n",
    "       .agg({'depo': 'count'}) \\\n",
    "       .sort_values('depo', ascending=False)\n",
    "\n",
    "sns.barplot(x=outliers_depo_distribution.channel, y=outliers_depo_distribution.depo, hue=outliers_depo_distribution.source)"
   ]
  },
  {
   "cell_type": "markdown",
   "metadata": {},
   "source": [
    "As we can see Facebook publications (source 'post') bring most outliers. "
   ]
  },
  {
   "cell_type": "code",
   "execution_count": 504,
   "metadata": {},
   "outputs": [
    {
     "data": {
      "text/plain": [
       "<AxesSubplot:xlabel='channel', ylabel='depo'>"
      ]
     },
     "execution_count": 504,
     "metadata": {},
     "output_type": "execute_result"
    },
    {
     "data": {
      "image/png": "[encoded data removed]",
      "text/plain": [
       "<Figure size 640x480 with 1 Axes>"
      ]
     },
     "metadata": {},
     "output_type": "display_data"
    }
   ],
   "source": [
    "# Let's check total deposits distribution over sources and channels\n",
    "\n",
    "deposits_distribution = clients \\\n",
    "                               .groupby(['channel', 'source'], as_index = False)  \\\n",
    "                               .agg({'depo': 'count'}) \\\n",
    "                               .sort_values('depo', ascending=False)\n",
    "\n",
    "sns.barplot(x=deposits_distribution.channel, y=deposits_distribution.depo, hue=deposits_distribution.source)"
   ]
  },
  {
   "cell_type": "code",
   "execution_count": 505,
   "metadata": {},
   "outputs": [
    {
     "data": {
      "text/plain": [
       "<AxesSubplot:xlabel='channel', ylabel='depo'>"
      ]
     },
     "execution_count": 505,
     "metadata": {},
     "output_type": "execute_result"
    },
    {
     "data": {
      "image/png": "[encoded data removed]",
      "text/plain": [
       "<Figure size 640x480 with 1 Axes>"
      ]
     },
     "metadata": {},
     "output_type": "display_data"
    }
   ],
   "source": [
    "# Check deposits (without outliers) distribution over sources and channels\n",
    "\n",
    "no_outliers_depo_distribution = clients.query('depo > -114.5' and 'depo < 753.5') \\\n",
    "       .groupby(['channel', 'source', 'country'], as_index = False)  \\\n",
    "       .agg({'depo': 'count'}) \\\n",
    "       .sort_values('depo', ascending=False)\n",
    "\n",
    "sns.barplot(x=no_outliers_depo_distribution.channel, y=no_outliers_depo_distribution.depo, hue=no_outliers_depo_distribution.source)"
   ]
  },
  {
   "cell_type": "markdown",
   "metadata": {},
   "source": [
    "As we can see Facebook publications (source 'post') bring most deposits. "
   ]
  },
  {
   "cell_type": "markdown",
   "metadata": {},
   "source": [
    "Now we are going to find segments with best conversion rate (client/lead ratio) and explain why they are the best ones"
   ]
  },
  {
   "cell_type": "code",
   "execution_count": 506,
   "metadata": {},
   "outputs": [
    {
     "name": "stdout",
     "output_type": "stream",
     "text": [
      "4.61 %\n"
     ]
    }
   ],
   "source": [
    "# Let's calculate the total conversion rate\n",
    "\n",
    "total_leads = general_df['client_id'].nunique()\n",
    "total_clients = clients['client_id'].nunique()\n",
    "conversion_rate = total_clients/total_leads\n",
    "print(round(conversion_rate*100, 2), \"%\")\n"
   ]
  },
  {
   "cell_type": "code",
   "execution_count": 533,
   "metadata": {},
   "outputs": [
    {
     "name": "stdout",
     "output_type": "stream",
     "text": [
      "         channel    source  lead_count\n",
      "0      affiliate      post        5560\n",
      "1      affiliate  telegram        2252\n",
      "2         direct      post       11266\n",
      "3         direct  telegram        4359\n",
      "4       facebook      post       40084\n",
      "5       facebook  telegram       14945\n",
      "6           none      post        1151\n",
      "7           none  telegram         447\n",
      "8            smm      post       33681\n",
      "9            smm  telegram       13678\n",
      "10  social media      post       21417\n",
      "11  social media  telegram        8720\n"
     ]
    }
   ],
   "source": [
    "# Let's check how many leads we got from different chanels\n",
    "\n",
    "leads_per_source = general_df \\\n",
    "        .groupby(['channel', 'source'], as_index = False) \\\n",
    "                ['client_id'].nunique() \\\n",
    "                .rename(columns={'client_id': 'lead_count'})\n",
    "print(leads_per_source)"
   ]
  },
  {
   "cell_type": "code",
   "execution_count": 534,
   "metadata": {},
   "outputs": [
    {
     "name": "stdout",
     "output_type": "stream",
     "text": [
      "         channel    source  client_count\n",
      "0      affiliate      post           217\n",
      "1      affiliate  telegram           175\n",
      "2         direct      post           434\n",
      "3         direct  telegram           270\n",
      "4       facebook      post          2378\n",
      "5       facebook  telegram           508\n",
      "6           none      post            46\n",
      "7           none  telegram            22\n",
      "8            smm      post          1296\n",
      "9            smm  telegram          1347\n",
      "10  social media  telegram           564\n"
     ]
    }
   ],
   "source": [
    "# Let's check how many clients we got from different chanels\n",
    "\n",
    "clients_per_source = clients \\\n",
    "        .groupby(['channel', 'source'], as_index = False)\\\n",
    "         ['client_id'].nunique() \\\n",
    "        .rename(columns={'client_id': 'client_count'})\n",
    "print(clients_per_source)"
   ]
  },
  {
   "cell_type": "code",
   "execution_count": 535,
   "metadata": {},
   "outputs": [
    {
     "name": "stdout",
     "output_type": "stream",
     "text": [
      "         channel    source  lead_count  client_count  conversion_rate\n",
      "9            smm  telegram       13678          1347             9.85\n",
      "1      affiliate  telegram        2252           175             7.77\n",
      "10  social media  telegram        8720           564             6.47\n",
      "3         direct  telegram        4359           270             6.19\n",
      "4       facebook      post       40084          2378             5.93\n",
      "7           none  telegram         447            22             4.92\n",
      "6           none      post        1151            46             4.00\n",
      "0      affiliate      post        5560           217             3.90\n",
      "2         direct      post       11266           434             3.85\n",
      "8            smm      post       33681          1296             3.85\n",
      "5       facebook  telegram       14945           508             3.40\n"
     ]
    }
   ],
   "source": [
    "conversion_per_source = leads_per_source.merge(clients_per_source)\n",
    "conversion_per_source['conversion_rate'] = (conversion_per_source.client_count / conversion_per_source.lead_count * 100).round(2)\n",
    "\n",
    "print(conversion_per_source.sort_values('conversion_rate', ascending=False))"
   ]
  },
  {
   "cell_type": "code",
   "execution_count": 536,
   "metadata": {},
   "outputs": [
    {
     "name": "stdout",
     "output_type": "stream",
     "text": [
      "5.466363636363637\n"
     ]
    }
   ],
   "source": [
    "mean_conversion = conversion_per_source.conversion_rate.mean()\n",
    "print(mean_conversion)"
   ]
  },
  {
   "cell_type": "code",
   "execution_count": 537,
   "metadata": {},
   "outputs": [
    {
     "data": {
      "text/plain": [
       "<matplotlib.lines.Line2D at 0x7fda3eb5cf10>"
      ]
     },
     "execution_count": 537,
     "metadata": {},
     "output_type": "execute_result"
    },
    {
     "data": {
      "image/png": "[encoded data removed]",
      "text/plain": [
       "<Figure size 640x480 with 1 Axes>"
      ]
     },
     "metadata": {},
     "output_type": "display_data"
    }
   ],
   "source": [
    "sns.barplot(x=conversion_per_source.channel, y=conversion_per_source.conversion_rate, hue=conversion_per_source.source).axhline(mean_conversion) "
   ]
  },
  {
   "cell_type": "markdown",
   "metadata": {},
   "source": [
    "SMM (source 'telegram') brings the highest conversion and Facebook (source 'telegram') brings the lowest. Telegram as a source has the highest conversion rate (above the mean)."
   ]
  },
  {
   "cell_type": "markdown",
   "metadata": {},
   "source": [
    "Let's check loyal clients, who made more than one depo."
   ]
  },
  {
   "cell_type": "code",
   "execution_count": 515,
   "metadata": {},
   "outputs": [
    {
     "name": "stdout",
     "output_type": "stream",
     "text": [
      "      client_id  success_number\n",
      "0       1001913               2\n",
      "3735    5092658               2\n",
      "3705    5056333               2\n",
      "3707    5057099               2\n",
      "3711    5061256               2\n",
      "...         ...             ...\n",
      "3885    5252745               1\n",
      "3884    5251387               1\n",
      "3883    5250280               1\n",
      "3882    5249377               1\n",
      "4627    6095577               1\n",
      "\n",
      "[7257 rows x 2 columns]\n"
     ]
    }
   ],
   "source": [
    "# loyalty\n",
    "\n",
    "success_number = clients \\\n",
    "                     .groupby('client_id', as_index=False) \\\n",
    "                     .agg({'depo': 'count'}) \\\n",
    "                     .rename(columns={'depo': 'success_number'}) \\\n",
    "                     .sort_values('success_number', ascending=False)\n",
    "\n",
    "print(success_number)"
   ]
  },
  {
   "cell_type": "code",
   "execution_count": 516,
   "metadata": {},
   "outputs": [
    {
     "name": "stdout",
     "output_type": "stream",
     "text": [
      "2\n"
     ]
    }
   ],
   "source": [
    "maximum_success = success_number.success_number.max()\n",
    "print(maximum_success)"
   ]
  },
  {
   "cell_type": "code",
   "execution_count": 532,
   "metadata": {},
   "outputs": [],
   "source": [
    "successful_clients = success_number.query('success_number == @maximum_success') \\\n",
    "              .sort_values('client_id') \\\n",
    "              .client_id \\\n",
    "              .tolist()"
   ]
  },
  {
   "cell_type": "code",
   "execution_count": 518,
   "metadata": {},
   "outputs": [
    {
     "data": {
      "text/plain": [
       "2776"
      ]
     },
     "execution_count": 518,
     "metadata": {},
     "output_type": "execute_result"
    }
   ],
   "source": [
    "len(successful_clients)"
   ]
  },
  {
   "cell_type": "markdown",
   "metadata": {},
   "source": [
    "Maximum depos per client is 2. Above we've created the list of loyal clients, who made more than one depo. The list contains 2776 ids and we recommend to pay additional attention to this loyal clients to increase retention rate."
   ]
  },
  {
   "cell_type": "markdown",
   "metadata": {},
   "source": [
    "** CONCLUSIONS**\n",
    "\n",
    "**-How users are distributed over countries?**\n",
    "\n",
    "Users and clients are distributed evenly, hence location doesn't affaect the conversion rate. \n",
    "\n",
    "**-How many outliers are there in data (in terms of deposits)?**\n",
    "\n",
    "We have 98 depo outliers, which are 32.51 % of total depo amount. Outliers lie beyond -114.5 and 753.5 depos. Facebook publications (source 'post') bring most outliers. \n",
    "\n",
    "**-Find segments with best conversion rate (client/lead ratio) and explain why you consider them best ones**\n",
    "SMM (source 'telegram') brings the highest conversion and Facebook (source 'telegram') brings the lowest. Telegram as a source has the highest conversion rate (most above the mean conversion rate). \n",
    "\n",
    "**-Visualize deposits distribution over sources and channels**\n",
    "<img src=\"image.png\">\n",
    "\n",
    "**-What are your advices to marketing team in order to optimize their activity?**\n",
    "1. Posts work well only with Facebook. We recommend to analyze this source deeply as well as other segments with low conversion rate.\n",
    "2. Maximum depos per client is 2. Above we've created the list of loyal clients, who made more than one depo. The list contains 2776 ids and we recommend to pay additional attention to this loyal clients to increase retention rate.\n",
    "3. As far as Telegram has the highest conversion rate, we recommend to focus on this source. \n",
    "\n"
   ]
  }
 ],
 "metadata": {
  "kernelspec": {
   "display_name": "Python 3.9.13 ('base')",
   "language": "python",
   "name": "python3"
  },
  "language_info": {
   "codemirror_mode": {
    "name": "ipython",
    "version": 3
   },
   "file_extension": ".py",
   "mimetype": "text/x-python",
   "name": "python",
   "nbconvert_exporter": "python",
   "pygments_lexer": "ipython3",
   "version": "3.9.13"
  },
  "orig_nbformat": 4,
  "vscode": {
   "interpreter": {
    "hash": "9d1d9df67f9bc662865c7fe5d14ba224df019390de7ec36f6b83c8f03dcc5f3b"
   }
  }
 },
 "nbformat": 4,
 "nbformat_minor": 2
}
